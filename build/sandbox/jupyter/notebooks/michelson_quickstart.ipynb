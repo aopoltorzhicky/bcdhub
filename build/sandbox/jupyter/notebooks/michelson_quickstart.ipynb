{
 "cells": [
  {
   "cell_type": "code",
   "execution_count": 1,
   "metadata": {},
   "outputs": [
    {
     "name": "stdout",
     "output_type": "stream",
     "text": [
      "parameter unit;\n",
      "storage unit;"
     ]
    }
   ],
   "source": [
    "parameter unit;\n",
    "storage unit;"
   ]
  },
  {
   "cell_type": "code",
   "execution_count": 2,
   "metadata": {},
   "outputs": [],
   "source": [
    "code {\n",
    "    CDR ;\n",
    "    NIL operation ;\n",
    "    PAIR ;\n",
    "}"
   ]
  },
  {
   "cell_type": "code",
   "execution_count": 3,
   "metadata": {},
   "outputs": [
    {
     "name": "stdout",
     "output_type": "stream",
     "text": [
      "RUN: use %default; drop all; push (Unit, Unit);\n",
      "  CDR: pop (Unit, Unit); push Unit;\n",
      "  NIL: push [];\n",
      "  PAIR: pop [], Unit; push ([], Unit);"
     ]
    },
    {
     "data": {
      "text/html": [
       "<table>\n",
       "<thead>\n",
       "<tr><th>value                                    </th><th>type                                     </th></tr>\n",
       "</thead>\n",
       "<tbody>\n",
       "<tr><td><pre style=&quot;text-align: left;&quot;>Unit</pre></td><td><pre style=&quot;text-align: left;&quot;>unit</pre></td></tr>\n",
       "</tbody>\n",
       "</table>"
      ],
      "text/plain": [
       "value    type\n",
       "-------  ------\n",
       "Unit     unit"
      ]
     },
     "execution_count": 3,
     "metadata": {},
     "output_type": "execute_result"
    }
   ],
   "source": [
    "RUN Unit Unit"
   ]
  }
 ],
 "metadata": {
  "kernelspec": {
   "display_name": "Michelson",
   "language": "michelson",
   "name": "michelson"
  },
  "language_info": {
   "codemirror_mode": "michelson",
   "file_extension": ".tz",
   "mimetype": "text/x-michelson",
   "name": "Michelson"
  }
 },
 "nbformat": 4,
 "nbformat_minor": 4
}
