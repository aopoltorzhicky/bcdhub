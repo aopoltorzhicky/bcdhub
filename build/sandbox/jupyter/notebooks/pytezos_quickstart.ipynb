{
 "cells": [
  {
   "cell_type": "code",
   "execution_count": 1,
   "metadata": {},
   "outputs": [],
   "source": [
    "from pytezos import pytezos, Contract"
   ]
  },
  {
   "cell_type": "code",
   "execution_count": 2,
   "metadata": {},
   "outputs": [],
   "source": [
    "alice = 'edsk3QoqBuvdamxouPhin7swCvkQNgq4jP5KZPbwWNnwdZpSpJiEbq'\n",
    "sandboxnet = 'http://flextesa:20000'"
   ]
  },
  {
   "cell_type": "code",
   "execution_count": 3,
   "metadata": {},
   "outputs": [],
   "source": [
    "pytezos = pytezos.using(shell=sandboxnet, key=alice)"
   ]
  },
  {
   "cell_type": "code",
   "execution_count": 4,
   "metadata": {},
   "outputs": [],
   "source": [
    "contract = Contract.from_michelson(\"\"\"\n",
    "parameter (big_map string string);\n",
    "storage (big_map string string);\n",
    "code { CAR ; NIL operation ; PAIR }\n",
    "\"\"\")"
   ]
  },
  {
   "cell_type": "code",
   "execution_count": 5,
   "metadata": {
    "scrolled": true
   },
   "outputs": [
    {
     "data": {
      "text/plain": [
       "{'chain_id': 'NetXdQprcVkpaWU',\n",
       " 'hash': 'ooUzn9wTSQC2orEKg3w4kT2DtFpeoVqb3bLYboBDtZqKpBuqfh9',\n",
       " 'protocol': 'PsCARTHAGazKbHtnKfLzQg3kms52kSRpgnDY982a9oYsSXRLQEb',\n",
       " 'branch': 'BMeU6N2esVp3LrjcU5LH5SXqiZuQpiwYE59yXYNKzu6WninD2wP',\n",
       " 'contents': [{'kind': 'origination',\n",
       "   'source': 'tz1VSUr8wwNhLAzempoch5d6hLRiTh8Cjcjb',\n",
       "   'fee': '1415',\n",
       "   'counter': '1',\n",
       "   'gas_limit': '11351',\n",
       "   'storage_limit': '336',\n",
       "   'balance': '0',\n",
       "   'script': {'code': [{'prim': 'parameter',\n",
       "      'args': [{'prim': 'big_map',\n",
       "        'args': [{'prim': 'string'}, {'prim': 'string'}]}]},\n",
       "     {'prim': 'storage',\n",
       "      'args': [{'prim': 'big_map',\n",
       "        'args': [{'prim': 'string'}, {'prim': 'string'}]}]},\n",
       "     {'prim': 'code',\n",
       "      'args': [[{'prim': 'CAR'},\n",
       "        {'prim': 'NIL', 'args': [{'prim': 'operation'}]},\n",
       "        {'prim': 'PAIR'}]]}],\n",
       "    'storage': []}}],\n",
       " 'signature': 'sigsXfAjgErCytMwQ5GLqG5XLGbmMHDLFXqXjnMDiEkRSUPQ6j1wq4FZkAEKHJCTNgkAPiF6vV7GuUkC5NLTdTy64Kcc3iub'}"
      ]
     },
     "execution_count": 5,
     "metadata": {},
     "output_type": "execute_result"
    }
   ],
   "source": [
    "pytezos.origination(contract.script()).autofill().sign().inject()"
   ]
  },
  {
   "cell_type": "code",
   "execution_count": null,
   "metadata": {},
   "outputs": [],
   "source": []
  }
 ],
 "metadata": {
  "kernelspec": {
   "display_name": "Python 3",
   "language": "python",
   "name": "python3"
  },
  "language_info": {
   "codemirror_mode": {
    "name": "ipython",
    "version": 3
   },
   "file_extension": ".py",
   "mimetype": "text/x-python",
   "name": "python",
   "nbconvert_exporter": "python",
   "pygments_lexer": "ipython3",
   "version": "3.7.7"
  }
 },
 "nbformat": 4,
 "nbformat_minor": 4
}